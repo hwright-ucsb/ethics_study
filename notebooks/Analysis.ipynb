{
 "cells": [
  {
   "cell_type": "markdown",
   "metadata": {},
   "source": [
    "# Questions\n",
    "- the text data file has 625 respondents; # data file has 583 -- need them to be downloaded at the same exact time to match"
   ]
  },
  {
   "cell_type": "markdown",
   "metadata": {},
   "source": [
    "# Progress updates\n",
    "    - 6/10 - cleaning up look of histograms/ finishing testing functionality, mapping text data\n",
    "    - 6/16 - t-value calculations"
   ]
  },
  {
   "cell_type": "markdown",
   "metadata": {},
   "source": [
    "# Notes\n",
    "    - focus on getting histograms and t-tests for all the questions as they relate to the demographics so that we can get a sense of the data. Then get into linear regressions after that."
   ]
  },
  {
   "cell_type": "code",
   "execution_count": 466,
   "metadata": {},
   "outputs": [],
   "source": [
    "import numpy as np\n",
    "from scipy import stats\n",
    "import matplotlib.pyplot as plt\n",
    "import pandas as pd\n",
    "import math"
   ]
  },
  {
   "cell_type": "code",
   "execution_count": 179,
   "metadata": {},
   "outputs": [],
   "source": [
    "matplotlib.rcParams['figure.figsize'] = [10, 8]"
   ]
  },
  {
   "cell_type": "markdown",
   "metadata": {},
   "source": [
    "# Methods"
   ]
  },
  {
   "cell_type": "code",
   "execution_count": 108,
   "metadata": {},
   "outputs": [],
   "source": [
    "#src: https://www.geeksforgeeks.org/counting-the-frequencies-in-a-list-using-dictionary-in-python/\n",
    "def CountFrequency(my_list):\n",
    "    # Creating an empty dictionary\n",
    "    count = {}\n",
    "    \n",
    "    for i in my_list:\n",
    "        count[i] = count.get(i, 0) + 1\n",
    "    return count"
   ]
  },
  {
   "cell_type": "code",
   "execution_count": 69,
   "metadata": {},
   "outputs": [],
   "source": [
    "def create_column_mapping(df, columns_text_list):\n",
    "    ## returns: a dict with the keys = textual column labels\n",
    "    ##     and values = raw data column labels \n",
    "    \n",
    "    assert(type(df) == pd.core.frame.DataFrame)\n",
    "    assert(type(columns_text_list) == list)\n",
    "    \n",
    "    raw_columns = pd.Index.tolist(df.columns)\n",
    "    \n",
    "    ## zip(keys, vals)\n",
    "    return dict(zip(columns_text_list, raw_columns))\n",
    "    \n",
    "    "
   ]
  },
  {
   "cell_type": "code",
   "execution_count": 335,
   "metadata": {},
   "outputs": [],
   "source": [
    "def clean_raw_data(df, elim_top_rows = 0, elim_every_other = False):\n",
    "    ## returns: a dataframe containing only \n",
    "    ##      relevant rows from the raw data\n",
    "    assert(type(df) == pd.core.frame.DataFrame)\n",
    "    \n",
    "    ## clean up extraneous top x rows\n",
    "    data_temp = df.iloc[elim_top_rows:df.index.size]\n",
    "    if elim_every_other == True:\n",
    "        ## every other row in the raw data is blank. clean that up\n",
    "        data_temp = data_temp.iloc[::2]\n",
    "    return data_temp\n",
    "    "
   ]
  },
  {
   "cell_type": "code",
   "execution_count": 307,
   "metadata": {},
   "outputs": [],
   "source": [
    "def convert_data_types(df):\n",
    "    ## df - dataframe\n",
    "    ## NOTE: THIS OPERATES ON THE DATAFRAME IN PLACE\n",
    "    for i in range(0,len(df.columns)):\n",
    "        tempcol = df[df.columns[i]]\n",
    "        testind = tempcol.index[0]\n",
    "        \n",
    "        try:\n",
    "            float(tempcol[testind])\n",
    "            df[df.columns[i]] = df[df.columns[i]].astype(float)\n",
    "        except:\n",
    "            #this doesnt seem to be working? (dont know if it matters) \n",
    "            df[df.columns[i]] = df[df.columns[i]].astype(str)    "
   ]
  },
  {
   "cell_type": "code",
   "execution_count": 470,
   "metadata": {},
   "outputs": [],
   "source": [
    "def create_histogram(data, x_title, mapping, prob=True, include_non_answers=False, show_mean=False, \n",
    "                     show_resp_row_num=-1):\n",
    "    ## data -- clean data dataframe \n",
    "    ## x_title -- string\n",
    "    ## include_non_answers -- boolean; includes people that didnt respond to the Q in the hist\n",
    "    ## prob -- boolean; if true, show %'s, if false, show frequency\n",
    "    ## mapping -- the column mapping returned from create_column_mapping\n",
    "    ## show_mean -- boolean, shows the average from the histogram\n",
    "    ## show_resp_row_num -- integer [0-# responses-1], the row number of the respondent whose answer you want to display\n",
    "    \n",
    "    t = mapping[x_title]\n",
    "    ## get the x data column from the dataframe\n",
    "    data_col = pd.DataFrame(data, columns=[t])\n",
    "    \n",
    "    flat_list = [item for sublist in pd.Index.tolist(data_col) for item in sublist]\n",
    "    \n",
    "    labels, counts = np.unique(flat_list, return_counts=True)\n",
    "    \n",
    "    # in the main code we replaced the NaNs with 0's, \n",
    "    # so here, we just eliminate that info from our hist before making graph\n",
    "    if include_non_answers == False:\n",
    "        labels = labels[1:len(labels)]\n",
    "        counts = counts[1:len(counts)]\n",
    "        \n",
    "    fig, ax = plt.subplots()\n",
    "    \n",
    "    if prob == True:\n",
    "        total = np.sum(counts)\n",
    "        counts = [float(i) for i in counts]\n",
    "        counts[:] = [x / total for x in counts]\n",
    "        ax.set_ylabel(\"Probability\")\n",
    "    else:\n",
    "        ax.set_ylabel(\"Frequency\")\n",
    "        \n",
    "    ax.bar(labels, counts, align='center')\n",
    "    fig.gca().set_xticks(labels)\n",
    "    ax.set_xlabel(x_title)\n",
    "    \n",
    "    if show_mean == True:\n",
    "        mean = np.mean(flat_list)\n",
    "        ax.axvline(mean, color='k', linestyle='dashed', linewidth=1)\n",
    "        min_ylim, max_ylim = plt.ylim()\n",
    "        ax.text(mean*1.1, max_ylim*0.9, 'Mean: {:.2f}'.format(mean))\n",
    "    if show_resp_row_num > -1 and show_resp_row_num < len(flat_list)-1:\n",
    "        resp = flat_list[show_resp_row_num]\n",
    "        ax.axvline(resp, color='k', linestyle='solid', linewidth=1)\n",
    "        min_ylim, max_ylim = plt.ylim()\n",
    "        ax.text(resp*1.1, max_ylim*0.9, 'User {:}: {:}'.format(show_resp_row_num, resp))\n",
    "    \n",
    "    plt.show()\n",
    "    "
   ]
  },
  {
   "cell_type": "code",
   "execution_count": 478,
   "metadata": {},
   "outputs": [],
   "source": [
    "def calculate_t_test(data, mapping, a_name, b_name, equal_var=False, nan_policy='omit'):\n",
    "    ## see scipy.stats.ttest_ind\n",
    "    \n",
    "    t_a = mapping[a_name]\n",
    "    t_b = mapping[b_name]\n",
    "    ## get the data columns from the dataframe\n",
    "    data_col_a = pd.DataFrame(data, columns=[t_a])\n",
    "    data_col_b = pd.DataFrame(data, columns=[t_b])\n",
    "    \n",
    "    flat_list_a = [item for sublist in pd.Index.tolist(data_col_a) for item in sublist]\n",
    "    flat_list_b = [item for sublist in pd.Index.tolist(data_col_b) for item in sublist]\n",
    "    \n",
    "    return stats.ttest_ind(flat_list_a, flat_list_b, equal_var=equal_var, nan_policy=nan_policy)"
   ]
  },
  {
   "cell_type": "markdown",
   "metadata": {},
   "source": [
    "# Main Code"
   ]
  },
  {
   "cell_type": "markdown",
   "metadata": {},
   "source": [
    "### Settings"
   ]
  },
  {
   "cell_type": "code",
   "execution_count": 45,
   "metadata": {},
   "outputs": [],
   "source": [
    "## show more items when printing for debugging purposes\n",
    "pd.options.display.max_seq_items = 2000\n",
    "pd.options.display.max_columns = 2000"
   ]
  },
  {
   "cell_type": "markdown",
   "metadata": {},
   "source": [
    "### Read in and clean the data"
   ]
  },
  {
   "cell_type": "code",
   "execution_count": 329,
   "metadata": {},
   "outputs": [],
   "source": [
    "## raw_data is of type(pandas.core.frame.DataFrame) -- \n",
    "## \"DataFrame is a 2-dimensional labeled data structure \n",
    "## with columns of potentially different types. \n",
    "## You can think of it like a spreadsheet or SQL table, or a dict of Series objects.\"\n",
    "\n",
    "## import the data file\n",
    "raw_data = pd.read_csv('../Ethics_May+15,+2020_09.06_2.csv')\n",
    "\n",
    "## import the raw corresponding text answers\n",
    "raw_text_data = pd.read_csv('../Ethics_June+3,+2020_18.56(1).csv')"
   ]
  },
  {
   "cell_type": "code",
   "execution_count": 336,
   "metadata": {},
   "outputs": [],
   "source": [
    "# clean the # data and text data\n",
    "data = clean_raw_data(raw_data, 5, True)\n",
    "text_data = clean_raw_data(raw_text_data, 2, False)"
   ]
  },
  {
   "cell_type": "code",
   "execution_count": 356,
   "metadata": {},
   "outputs": [],
   "source": [
    "# change the data types to floats (where applicable)\n",
    "convert_data_types(data)"
   ]
  },
  {
   "cell_type": "code",
   "execution_count": 384,
   "metadata": {},
   "outputs": [],
   "source": [
    "# replace the NaNs with 0's -- doing this for easier analyzations. this can be applied\n",
    "# selectively to certain columns if we run into problems bc of this change\n",
    "data.replace({np.NaN : 0}, inplace=True)"
   ]
  },
  {
   "cell_type": "markdown",
   "metadata": {},
   "source": [
    "### Make some mappings between text descriptors and data for easier readability"
   ]
  },
  {
   "cell_type": "code",
   "execution_count": 355,
   "metadata": {},
   "outputs": [],
   "source": [
    "# store the question text in this list\n",
    "question_text = raw_data.iloc[1,:].tolist()"
   ]
  },
  {
   "cell_type": "code",
   "execution_count": 380,
   "metadata": {},
   "outputs": [],
   "source": [
    "# create the mapping between textual column names and non-descriptive column names\n",
    "# as is this is line is not doing anything, we can pass a list of titles as the last arg\n",
    "# however, which will name the columns whatever you want to name them.\n",
    "column_mapping = create_column_mapping(data,pd.Index.tolist(data.columns))"
   ]
  },
  {
   "cell_type": "code",
   "execution_count": 381,
   "metadata": {},
   "outputs": [],
   "source": [
    "# hard coding this part for the column mapping\n",
    "column_mapping['Gender'] = column_mapping.pop('I02')\n",
    "column_mapping['Age'] = column_mapping.pop('I03')\n",
    "column_mapping['Race-Ethnicity'] = column_mapping.pop('I04')\n",
    "column_mapping['Education'] = column_mapping.pop('I05')\n",
    "column_mapping['Nationality'] = column_mapping.pop('I06')\n",
    "column_mapping['Income'] = column_mapping.pop('I07')"
   ]
  },
  {
   "cell_type": "markdown",
   "metadata": {},
   "source": [
    "## Example of how to use the histogram function!"
   ]
  },
  {
   "cell_type": "code",
   "execution_count": 471,
   "metadata": {},
   "outputs": [
    {
     "data": {
      "image/png": "[encoded data removed]",
      "text/plain": [
       "<Figure size 720x576 with 1 Axes>"
      ]
     },
     "metadata": {
      "needs_background": "light"
     },
     "output_type": "display_data"
    }
   ],
   "source": [
    "create_histogram(data, 'Income', column_mapping, prob=True, include_non_answers=True, show_mean=True, \n",
    "                     show_resp_row_num=581)"
   ]
  },
  {
   "cell_type": "code",
   "execution_count": null,
   "metadata": {},
   "outputs": [],
   "source": []
  },
  {
   "cell_type": "markdown",
   "metadata": {},
   "source": [
    "# Debugging code "
   ]
  },
  {
   "cell_type": "code",
   "execution_count": 483,
   "metadata": {},
   "outputs": [
    {
     "data": {
      "text/plain": [
       "{'StartDate': 'StartDate',\n",
       " 'EndDate': 'EndDate',\n",
       " 'Status': 'Status',\n",
       " 'IPAddress': 'IPAddress',\n",
       " 'Progress': 'Progress',\n",
       " 'Duration (in seconds)': 'Duration (in seconds)',\n",
       " 'Finished': 'Finished',\n",
       " 'RecordedDate': 'RecordedDate',\n",
       " 'ResponseId': 'ResponseId',\n",
       " 'RecipientLastName': 'RecipientLastName',\n",
       " 'RecipientFirstName': 'RecipientFirstName',\n",
       " 'RecipientEmail': 'RecipientEmail',\n",
       " 'ExternalReference': 'ExternalReference',\n",
       " 'LocationLatitude': 'LocationLatitude',\n",
       " 'LocationLongitude': 'LocationLongitude',\n",
       " 'DistributionChannel': 'DistributionChannel',\n",
       " 'UserLanguage': 'UserLanguage',\n",
       " 'C01': 'C01',\n",
       " 'C02': 'C02',\n",
       " 'C03': 'C03',\n",
       " 'I08_1': 'I08_1',\n",
       " 'I09_1': 'I09_1',\n",
       " 'Q01_1': 'Q01_1',\n",
       " 'T01_First Click': 'T01_First Click',\n",
       " 'T01_Last Click': 'T01_Last Click',\n",
       " 'T01_Page Submit': 'T01_Page Submit',\n",
       " 'T01_Click Count': 'T01_Click Count',\n",
       " 'Q02_1': 'Q02_1',\n",
       " 'T02_First Click': 'T02_First Click',\n",
       " 'T02_Last Click': 'T02_Last Click',\n",
       " 'T02_Page Submit': 'T02_Page Submit',\n",
       " 'T02_Click Count': 'T02_Click Count',\n",
       " 'Q03_1': 'Q03_1',\n",
       " 'T03_First Click': 'T03_First Click',\n",
       " 'T03_Last Click': 'T03_Last Click',\n",
       " 'T03_Page Submit': 'T03_Page Submit',\n",
       " 'T03_Click Count': 'T03_Click Count',\n",
       " 'Q04_1': 'Q04_1',\n",
       " 'T04_First Click': 'T04_First Click',\n",
       " 'T04_Last Click': 'T04_Last Click',\n",
       " 'T04_Page Submit': 'T04_Page Submit',\n",
       " 'T04_Click Count': 'T04_Click Count',\n",
       " 'Q05_1': 'Q05_1',\n",
       " 'T05_First Click': 'T05_First Click',\n",
       " 'T05_Last Click': 'T05_Last Click',\n",
       " 'T05_Page Submit': 'T05_Page Submit',\n",
       " 'T05_Click Count': 'T05_Click Count',\n",
       " 'Q06_1': 'Q06_1',\n",
       " 'T06_First Click': 'T06_First Click',\n",
       " 'T06_Last Click': 'T06_Last Click',\n",
       " 'T06_Page Submit': 'T06_Page Submit',\n",
       " 'T06_Click Count': 'T06_Click Count',\n",
       " 'Q07_1': 'Q07_1',\n",
       " 'T07_First Click': 'T07_First Click',\n",
       " 'T07_Last Click': 'T07_Last Click',\n",
       " 'T07_Page Submit': 'T07_Page Submit',\n",
       " 'T07_Click Count': 'T07_Click Count',\n",
       " 'Q08_1': 'Q08_1',\n",
       " 'T08_First Click': 'T08_First Click',\n",
       " 'T08_Last Click': 'T08_Last Click',\n",
       " 'T08_Page Submit': 'T08_Page Submit',\n",
       " 'T08_Click Count': 'T08_Click Count',\n",
       " 'Q09_1': 'Q09_1',\n",
       " 'T09_First Click': 'T09_First Click',\n",
       " 'T09_Last Click': 'T09_Last Click',\n",
       " 'T09_Page Submit': 'T09_Page Submit',\n",
       " 'T09_Click Count': 'T09_Click Count',\n",
       " 'Q10_1': 'Q10_1',\n",
       " 'T10_First Click': 'T10_First Click',\n",
       " 'T10_Last Click': 'T10_Last Click',\n",
       " 'T10_Page Submit': 'T10_Page Submit',\n",
       " 'T10_Click Count': 'T10_Click Count',\n",
       " 'Q11_1': 'Q11_1',\n",
       " 'T11_First Click': 'T11_First Click',\n",
       " 'T11_Last Click': 'T11_Last Click',\n",
       " 'T11_Page Submit': 'T11_Page Submit',\n",
       " 'T11_Click Count': 'T11_Click Count',\n",
       " 'Q12_1': 'Q12_1',\n",
       " 'T12_First Click': 'T12_First Click',\n",
       " 'T12_Last Click': 'T12_Last Click',\n",
       " 'T12_Page Submit': 'T12_Page Submit',\n",
       " 'T12_Click Count': 'T12_Click Count',\n",
       " 'Q13_1': 'Q13_1',\n",
       " 'T13_First Click': 'T13_First Click',\n",
       " 'T13_Last Click': 'T13_Last Click',\n",
       " 'T13_Page Submit': 'T13_Page Submit',\n",
       " 'T13_Click Count': 'T13_Click Count',\n",
       " 'Q14_1': 'Q14_1',\n",
       " 'T14_First Click': 'T14_First Click',\n",
       " 'T14_Last Click': 'T14_Last Click',\n",
       " 'T14_Page Submit': 'T14_Page Submit',\n",
       " 'T14_Click Count': 'T14_Click Count',\n",
       " 'Q15_1': 'Q15_1',\n",
       " 'T15_First Click': 'T15_First Click',\n",
       " 'T15_Last Click': 'T15_Last Click',\n",
       " 'T15_Page Submit': 'T15_Page Submit',\n",
       " 'T15_Click Count': 'T15_Click Count',\n",
       " 'Gender': 'I02',\n",
       " 'Age': 'I03',\n",
       " 'Race-Ethnicity': 'I04',\n",
       " 'Education': 'I05',\n",
       " 'Nationality': 'I06',\n",
       " 'Income': 'I07'}"
      ]
     },
     "execution_count": 483,
     "metadata": {},
     "output_type": "execute_result"
    }
   ],
   "source": [
    "column_mapping"
   ]
  },
  {
   "cell_type": "code",
   "execution_count": 467,
   "metadata": {},
   "outputs": [
    {
     "data": {
      "text/plain": [
       "Ttest_indResult(statistic=-23.37701760055529, pvalue=4.902605647863991e-87)"
      ]
     },
     "execution_count": 467,
     "metadata": {},
     "output_type": "execute_result"
    }
   ],
   "source": [
    "stats.ttest_ind(flat_list_gender, flat_list_income, equal_var=False, nan_policy='omit')"
   ]
  },
  {
   "cell_type": "code",
   "execution_count": 484,
   "metadata": {},
   "outputs": [],
   "source": [
    "res = calculate_t_test(data, column_mapping, 'Gender', 'Q01_1')"
   ]
  },
  {
   "cell_type": "code",
   "execution_count": 485,
   "metadata": {},
   "outputs": [
    {
     "data": {
      "text/plain": [
       "Ttest_indResult(statistic=-13.505399240483564, pvalue=7.4769665023923825e-37)"
      ]
     },
     "execution_count": 485,
     "metadata": {},
     "output_type": "execute_result"
    }
   ],
   "source": [
    "res"
   ]
  },
  {
   "cell_type": "code",
   "execution_count": null,
   "metadata": {},
   "outputs": [],
   "source": []
  }
 ],
 "metadata": {
  "kernelspec": {
   "display_name": "Python 3",
   "language": "python",
   "name": "python3"
  },
  "language_info": {
   "codemirror_mode": {
    "name": "ipython",
    "version": 3
   },
   "file_extension": ".py",
   "mimetype": "text/x-python",
   "name": "python",
   "nbconvert_exporter": "python",
   "pygments_lexer": "ipython3",
   "version": "3.7.3"
  }
 },
 "nbformat": 4,
 "nbformat_minor": 2
}
